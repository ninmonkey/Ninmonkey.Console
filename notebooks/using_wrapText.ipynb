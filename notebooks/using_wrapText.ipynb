{
 "cells": [
  {
   "cell_type": "code",
   "execution_count": null,
   "metadata": {
    "dotnet_interactive": {
     "language": "pwsh"
    },
    "vscode": {
     "languageId": "dotnet-interactive.pwsh"
    }
   },
   "outputs": [],
   "source": [
    "Import-Module Ninmonkey.Console *>$null"
   ]
  },
  {
   "cell_type": "code",
   "execution_count": null,
   "metadata": {
    "dotnet_interactive": {
     "language": "pwsh"
    },
    "vscode": {
     "languageId": "dotnet-interactive.pwsh"
    }
   },
   "outputs": [
    {
     "name": "stdout",
     "output_type": "stream",
     "text": [
      "$Invoke()(?<Stuff>$__0)::\r\n",
      "$Invoke()(?<Stuff>$__1)::\r\n",
      "$Invoke()(?<Stuff>$__2)::\r\n",
      "$Invoke()(?<Stuff>$__3)::\r\n",
      "$Invoke()(?<Stuff>$__4)::\r\n"
     ]
    }
   ],
   "source": [
    "0..4\n",
    "| wrapText Dunder\n",
    "| wrapText PwshVariable\n",
    "| wrapText RegexNamedGroup -a 'Stuff'\n",
    "| wrapText PwshStaticMember -a 'Invoke()'"
   ]
  },
  {
   "cell_type": "code",
   "execution_count": null,
   "metadata": {
    "dotnet_interactive": {
     "language": "pwsh"
    },
    "vscode": {
     "languageId": "dotnet-interactive.pwsh"
    }
   },
   "outputs": [
    {
     "name": "stdout",
     "output_type": "stream",
     "text": [
      "__0\r\n",
      "__1\r\n",
      "__2\r\n",
      "__3\r\n",
      "__4\r\n"
     ]
    }
   ],
   "source": [
    "0..4 | wrapText Dunder"
   ]
  }
 ],
 "metadata": {
  "kernelspec": {
   "display_name": ".NET (C#)",
   "language": "C#",
   "name": ".net-csharp"
  },
  "language_info": {
   "file_extension": ".cs",
   "mimetype": "text/x-csharp",
   "name": "C#",
   "pygments_lexer": "csharp",
   "version": "9.0"
  },
  "orig_nbformat": 4
 },
 "nbformat": 4,
 "nbformat_minor": 2
}
